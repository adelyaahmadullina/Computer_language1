{
  "nbformat": 4,
  "nbformat_minor": 0,
  "metadata": {
    "colab": {
      "provenance": [],
      "include_colab_link": true
    },
    "kernelspec": {
      "name": "python3",
      "display_name": "Python 3"
    },
    "language_info": {
      "name": "python"
    }
  },
  "cells": [
    {
      "cell_type": "markdown",
      "metadata": {
        "id": "view-in-github",
        "colab_type": "text"
      },
      "source": [
        "<a href=\"https://colab.research.google.com/github/adelyaahmadullina/Computer_language1/blob/main/%D0%9B%D0%B0%D0%B1_%D0%BA%D0%BE%D0%BC%D0%BF_%D0%BB%D0%B8%D0%BD%D0%B3%D0%B2_%D0%90%D1%85%D0%BC%D0%B0%D0%B4%D1%83%D0%BB%D0%BB%D0%B8%D0%BD%D0%B0.ipynb\" target=\"_parent\"><img src=\"https://colab.research.google.com/assets/colab-badge.svg\" alt=\"Open In Colab\"/></a>"
      ]
    },
    {
      "cell_type": "markdown",
      "source": [
        "Сравнительный анализ алгоритмов стемминга и лемматизации для обработки текста на естественном языке."
      ],
      "metadata": {
        "id": "leR9S-GCryCe"
      }
    },
    {
      "cell_type": "code",
      "source": [
        "!pip install pymorphy2"
      ],
      "metadata": {
        "colab": {
          "base_uri": "https://localhost:8080/"
        },
        "id": "VUZSLHebt8Au",
        "outputId": "8123fd7b-2dbc-4753-fd6a-51e71aa0679e"
      },
      "execution_count": 1,
      "outputs": [
        {
          "output_type": "stream",
          "name": "stdout",
          "text": [
            "Collecting pymorphy2\n",
            "  Downloading pymorphy2-0.9.1-py3-none-any.whl (55 kB)\n",
            "\u001b[2K     \u001b[90m━━━━━━━━━━━━━━━━━━━━━━━━━━━━━━━━━━━━━━━━\u001b[0m \u001b[32m55.5/55.5 kB\u001b[0m \u001b[31m584.8 kB/s\u001b[0m eta \u001b[36m0:00:00\u001b[0m\n",
            "\u001b[?25hCollecting dawg-python>=0.7.1 (from pymorphy2)\n",
            "  Downloading DAWG_Python-0.7.2-py2.py3-none-any.whl (11 kB)\n",
            "Collecting pymorphy2-dicts-ru<3.0,>=2.4 (from pymorphy2)\n",
            "  Downloading pymorphy2_dicts_ru-2.4.417127.4579844-py2.py3-none-any.whl (8.2 MB)\n",
            "\u001b[2K     \u001b[90m━━━━━━━━━━━━━━━━━━━━━━━━━━━━━━━━━━━━━━━━\u001b[0m \u001b[32m8.2/8.2 MB\u001b[0m \u001b[31m42.6 MB/s\u001b[0m eta \u001b[36m0:00:00\u001b[0m\n",
            "\u001b[?25hCollecting docopt>=0.6 (from pymorphy2)\n",
            "  Downloading docopt-0.6.2.tar.gz (25 kB)\n",
            "  Preparing metadata (setup.py) ... \u001b[?25l\u001b[?25hdone\n",
            "Building wheels for collected packages: docopt\n",
            "  Building wheel for docopt (setup.py) ... \u001b[?25l\u001b[?25hdone\n",
            "  Created wheel for docopt: filename=docopt-0.6.2-py2.py3-none-any.whl size=13706 sha256=1399cee61e159b03a01c9aa80d120b2cd56153b89591e98c1d956b0da4b960dd\n",
            "  Stored in directory: /root/.cache/pip/wheels/fc/ab/d4/5da2067ac95b36618c629a5f93f809425700506f72c9732fac\n",
            "Successfully built docopt\n",
            "Installing collected packages: pymorphy2-dicts-ru, docopt, dawg-python, pymorphy2\n",
            "Successfully installed dawg-python-0.7.2 docopt-0.6.2 pymorphy2-0.9.1 pymorphy2-dicts-ru-2.4.417127.4579844\n"
          ]
        }
      ]
    },
    {
      "cell_type": "code",
      "source": [
        "!pip install nltk"
      ],
      "metadata": {
        "colab": {
          "base_uri": "https://localhost:8080/"
        },
        "id": "R9j20GVruG-y",
        "outputId": "294ef699-d2d5-4fb5-f703-2553e4974d91"
      },
      "execution_count": 2,
      "outputs": [
        {
          "output_type": "stream",
          "name": "stdout",
          "text": [
            "Requirement already satisfied: nltk in /usr/local/lib/python3.10/dist-packages (3.8.1)\n",
            "Requirement already satisfied: click in /usr/local/lib/python3.10/dist-packages (from nltk) (8.1.7)\n",
            "Requirement already satisfied: joblib in /usr/local/lib/python3.10/dist-packages (from nltk) (1.3.2)\n",
            "Requirement already satisfied: regex>=2021.8.3 in /usr/local/lib/python3.10/dist-packages (from nltk) (2023.6.3)\n",
            "Requirement already satisfied: tqdm in /usr/local/lib/python3.10/dist-packages (from nltk) (4.66.1)\n"
          ]
        }
      ]
    },
    {
      "cell_type": "code",
      "source": [
        "!pip install snowballstemmer"
      ],
      "metadata": {
        "colab": {
          "base_uri": "https://localhost:8080/"
        },
        "id": "A1UhXpicK8CL",
        "outputId": "fc1bc700-d853-46cc-b15b-c59b14818917"
      },
      "execution_count": 3,
      "outputs": [
        {
          "output_type": "stream",
          "name": "stdout",
          "text": [
            "Requirement already satisfied: snowballstemmer in /usr/local/lib/python3.10/dist-packages (2.2.0)\n"
          ]
        }
      ]
    },
    {
      "cell_type": "code",
      "source": [
        "!pip install pystemmer"
      ],
      "metadata": {
        "colab": {
          "base_uri": "https://localhost:8080/"
        },
        "id": "Sdq5kW0bPmMF",
        "outputId": "3f1cb050-caa4-4fa0-9c1a-5e9bafa915d4"
      },
      "execution_count": 4,
      "outputs": [
        {
          "output_type": "stream",
          "name": "stdout",
          "text": [
            "Collecting pystemmer\n",
            "  Downloading PyStemmer-2.2.0.1.tar.gz (303 kB)\n",
            "\u001b[2K     \u001b[90m━━━━━━━━━━━━━━━━━━━━━━━━━━━━━━━━━━━━━━━━\u001b[0m \u001b[32m303.0/303.0 kB\u001b[0m \u001b[31m4.7 MB/s\u001b[0m eta \u001b[36m0:00:00\u001b[0m\n",
            "\u001b[?25h  Preparing metadata (setup.py) ... \u001b[?25l\u001b[?25hdone\n",
            "Building wheels for collected packages: pystemmer\n",
            "  Building wheel for pystemmer (setup.py) ... \u001b[?25l\u001b[?25hdone\n",
            "  Created wheel for pystemmer: filename=PyStemmer-2.2.0.1-cp310-cp310-linux_x86_64.whl size=579735 sha256=fee8bdd880c3ef14e5ad3bbf36547d6534c5b9af0b7db9ef8e89285289c17ef4\n",
            "  Stored in directory: /root/.cache/pip/wheels/45/7d/2c/a7ebb8319e01acc5306fa1f8558bf24063d6cec2c02de330c9\n",
            "Successfully built pystemmer\n",
            "Installing collected packages: pystemmer\n",
            "Successfully installed pystemmer-2.2.0.1\n"
          ]
        }
      ]
    },
    {
      "cell_type": "code",
      "source": [
        "# Импорт необходимых библиотек\n",
        "import nltk\n",
        "from nltk.stem.snowball import SnowballStemmer\n",
        "from snowballstemmer import stemmer\n",
        "import pymorphy2\n"
      ],
      "metadata": {
        "id": "il0-mNOWK-X-"
      },
      "execution_count": 5,
      "outputs": []
    },
    {
      "cell_type": "code",
      "execution_count": 6,
      "metadata": {
        "colab": {
          "base_uri": "https://localhost:8080/"
        },
        "id": "AsXtetAIrwUs",
        "outputId": "e70e63db-d105-4f0e-a573-045df3f1521b"
      },
      "outputs": [
        {
          "output_type": "stream",
          "name": "stderr",
          "text": [
            "[nltk_data] Downloading package punkt to /root/nltk_data...\n",
            "[nltk_data]   Unzipping tokenizers/punkt.zip.\n"
          ]
        },
        {
          "output_type": "stream",
          "name": "stdout",
          "text": [
            "Original: Поздней осенью я посадил молодые яблоньки. Наступила дружная весна. По дорогам зажурчала вода. Быстро сошёл снег. Ярко заблестели на солнце лужи. Я пришёл в сад и осмотрел свои яблоньки. Сучья и веточки все были целы. Лопнули почки. Показались алые края цветочных листьев. По саду разносились чудесные песни птиц. В песнях звучала радость встречи с теплом и весной. Легко и спокойно было на сердце.\n",
            "Stemmed: поздн осен я посад молод яблоньк . наступ дружн весн . по дорог зажурча вод . быстр сошел снег . ярк заблестел на солнц луж . я пришел в сад и осмотрел сво яблоньк . суч и веточк все был цел . лопнул почк . показа ал кра цветочн лист . по сад разнос чудесн песн птиц . в песн звуча радост встреч с тепл и весн . легк и спокойн был на сердц .\n",
            "Lemmatized: поздний осень я посадить молодой яблонька . наступить дружный весна . по дорога зажурчать вода . быстро сойти снег . ярко заблестеть на солнце лужа . я прийти в сад и осмотреть свой яблонька . сук и веточка всё быть целый . лопнуть почка . показаться алый край цветочный лист . по сад разноситься чудесный песня птица . в песня звучать радость встреча с тепло и весна . легко и спокойно быть на сердце .\n"
          ]
        }
      ],
      "source": [
        "nltk.download('punkt')\n",
        "# Инициализация стеммера и морфологического анализатора\n",
        "stemmer = SnowballStemmer(\"russian\")  # Создаем стеммер для русского языка\n",
        "morph = pymorphy2.MorphAnalyzer()  # Создаем морфологический анализатор\n",
        "\n",
        "# Функция для стемминга текста\n",
        "def stem_text(text):\n",
        "    words = nltk.word_tokenize(text)  # Токенизация текста на слова\n",
        "    stemmed_words = [stemmer.stem(word) for word in words]  # Применение стеммера к каждому слову\n",
        "    return \" \".join(stemmed_words)  # Объединение стеммированных слов обратно в текст\n",
        "\n",
        "# Функция для лемматизации текста\n",
        "def lemmatize_text(text):\n",
        "    words = nltk.word_tokenize(text)  # Токенизация текста на слова\n",
        "    lemmatized_words = [morph.parse(word)[0].normal_form for word in words]  # Лемматизация каждого слова\n",
        "    return \" \".join(lemmatized_words)  # Объединение лемматизированных слов обратно в текст\n",
        "\n",
        "# Пример использования\n",
        "example_text = \"Поздней осенью я посадил молодые яблоньки. Наступила дружная весна. По дорогам зажурчала вода. Быстро сошёл снег. Ярко заблестели на солнце лужи. Я пришёл в сад и осмотрел свои яблоньки. Сучья и веточки все были целы. Лопнули почки. Показались алые края цветочных листьев. По саду разносились чудесные песни птиц. В песнях звучала радость встречи с теплом и весной. Легко и спокойно было на сердце.\"\n",
        "stemmed_text = stem_text(example_text)  # Применение стемминга\n",
        "lemmatized_text = lemmatize_text(example_text)  # Применение лемматизации\n",
        "\n",
        "# Вывод результатов\n",
        "print(f\"Original: {example_text}\")\n",
        "print(f\"Stemmed: {stemmed_text}\")\n",
        "print(f\"Lemmatized: {lemmatized_text}\")\n"
      ]
    },
    {
      "cell_type": "code",
      "source": [
        "!pip install pystemmer"
      ],
      "metadata": {
        "colab": {
          "base_uri": "https://localhost:8080/"
        },
        "id": "ZMKk4XyuLDqu",
        "outputId": "765a7291-27bd-4e46-e0d0-938fe0f38b15"
      },
      "execution_count": 7,
      "outputs": [
        {
          "output_type": "stream",
          "name": "stdout",
          "text": [
            "Requirement already satisfied: pystemmer in /usr/local/lib/python3.10/dist-packages (2.2.0.1)\n"
          ]
        }
      ]
    },
    {
      "cell_type": "code",
      "source": [
        "import pymorphy2\n",
        "from snowballstemmer import stemmer\n",
        "\n",
        "def perform_lem(text):\n",
        "    # Создаем объект MorphAnalyzer\n",
        "    morph = pymorphy2.MorphAnalyzer()\n",
        "\n",
        "    # Разбиваем текст на слова\n",
        "    words = text.split()\n",
        "\n",
        "    # Применяем стемминг (получаем нормальную форму) к каждому слову\n",
        "    stemmed_words = [morph.parse(word)[0].normal_form for word in words]\n",
        "\n",
        "    # Соединяем стеммированные слова обратно в текст\n",
        "    lem_text = \" \".join(stemmed_words)\n",
        "\n",
        "    return lem_text\n",
        "def perform_stemming(text):\n",
        "    # Создаем объект стеммера для русского языка\n",
        "    stemmer_ru = stemmer(\"russian\")\n",
        "\n",
        "    # Разбиваем текст на слова\n",
        "    words = text.split()\n",
        "\n",
        "    # Применяем стемминг к каждому слову\n",
        "    stemmed_words = [stemmer_ru.stemWord(word) for word in words]\n",
        "\n",
        "    # Соединяем стеммированные слова обратно в текст\n",
        "    stemmed_text = \" \".join(stemmed_words)\n",
        "\n",
        "    return stemmed_text\n",
        "\n",
        "\n",
        "# Пример использования\n",
        "input_text = \"Поздней осенью я посадил молодые яблоньки. Наступила дружная весна. По дорогам зажурчала вода. Быстро сошёл снег. Ярко заблестели на солнце лужи. Я пришёл в сад и осмотрел свои яблоньки. Сучья и веточки все были целы. Лопнули почки. Показались алые края цветочных листьев. По саду разносились чудесные песни птиц. В песнях звучала радость встречи с теплом и весной. Легко и спокойно было на сердце.\"\n",
        "lem_text = perform_lem(input_text)\n",
        "stemmed_text = perform_stemming(input_text)\n",
        "\n",
        "print(f\"Исходный текст: {input_text}\")\n",
        "print(f\"Лемматизированный текст: {lem_text}\")\n",
        "print(f\"Стеммированный текст: {stemmed_text}\")\n"
      ],
      "metadata": {
        "colab": {
          "base_uri": "https://localhost:8080/"
        },
        "id": "s7sbmkK0LmJ6",
        "outputId": "9fd9bb30-2e0b-4b7e-bc09-38b805166801"
      },
      "execution_count": 8,
      "outputs": [
        {
          "output_type": "stream",
          "name": "stdout",
          "text": [
            "Исходный текст: Поздней осенью я посадил молодые яблоньки. Наступила дружная весна. По дорогам зажурчала вода. Быстро сошёл снег. Ярко заблестели на солнце лужи. Я пришёл в сад и осмотрел свои яблоньки. Сучья и веточки все были целы. Лопнули почки. Показались алые края цветочных листьев. По саду разносились чудесные песни птиц. В песнях звучала радость встречи с теплом и весной. Легко и спокойно было на сердце.\n",
            "Лемматизированный текст: поздний осень я посадить молодой яблоньки. наступить дружный весна. по дорога зажурчать вода. быстро сойти снег. ярко заблестеть на солнце лужи. я прийти в сад и осмотреть свой яблоньки. сук и веточка всё быть целы. лопнуть почки. показаться алый край цветочный листьев. по сад разноситься чудесный песня птиц. в песня звучать радость встреча с тепло и весной. легко и спокойно быть на сердце.\n",
            "Стеммированный текст: Поздн осен я посад молод яблоньки. Наступ дружн весна. По дорог зажурча вода. Быстр сошел снег. Ярко заблестел на солнц лужи. Я пришел в сад и осмотрел сво яблоньки. Суч и веточк все был целы. Лопнул почки. Показа ал кра цветочн листьев. По сад разнос чудесн песн птиц. В песн звуча радост встреч с тепл и весной. Легк и спокойн был на сердце.\n"
          ]
        }
      ]
    },
    {
      "cell_type": "markdown",
      "source": [
        "Вывод: при использовании алгоритмов стемминга мы получаем корень слов, для того чтобы можно было при генерации нового текста использовать любую форму слова, а при использовании алгоритма лемматизации мы берем начальную форму слова."
      ],
      "metadata": {
        "id": "G7suGx7_vHIk"
      }
    }
  ]
}